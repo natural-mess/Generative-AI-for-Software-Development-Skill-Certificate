{
 "cells": [
  {
   "cell_type": "markdown",
   "metadata": {},
   "source": [
    "# Assignment - Implementing graph algorithms with LLMs\n",
    "\n",
    "\n",
    "Welcome to the first assignment of Course 1 in the Generative AI for Software Development Specialization! In this assignment you will **work alongside an LLM to take on four different graph-based problems** including finding the shortest path through a graph and solving different variations of the classic Travelling Salesman Problem in which you must find the shortest tour through every vertex in the graph. This is a great opportunity to practice using the LLM skills you've been learning! You can use the LLM of your choosing but [GPT-4o is available here](https://www.coursera.org/learn/introduction-to-generative-ai-for-software-development/ungradedLab/Vuqvf/gpt-3-5-environment), in the ungraded lab that accompanies this assignment.\n",
    "\n",
    "**Here's a quick summary of the contents of this notebook:**\n",
    "\n",
    "- Section 1: Introduction, setup, and the `Graph` class this assignment is based on\n",
    "- Section 2: Recommendations on how to complete the assignment\n",
    "- Section 3: A playground to test solutions\n",
    "- Section 4: The exercises\n"
   ]
  },
  {
   "cell_type": "markdown",
   "metadata": {},
   "source": [
    "\n",
    "# Table of Contents\n",
    "- [ 1 - Introduction](#1)\n",
    "  - [ 1.1 - Importing unittests](#1-1)\n",
    "  - [ 1.2 - The `Graph` Class](#1-2)\n",
    "- [ 2 - Recommentations](#2)\n",
    "  - [ 2.1 - Recommended Development Steps](#2-1)\n",
    "- [ 3 - Playground](#3)\n",
    "  - [ 3.1 - The `generate_graph` function](#3-1)\n",
    "  - [ 3.2 Example usage (using the base Graph class)](#3-2)\n",
    "- [ 4 - Exercises](#4)\n",
    "  - [ Exercise 1](#ex01)\n",
    "    - [ Test Exercise 1 (`shortest_path`)](#4-1)\n",
    "  - [ Exercise 2](#ex02)\n",
    "    - [ Test Exercise 2 (`tsp_small_graph`)](#4-2)\n",
    "  - [ Exercise 3](#ex03)\n",
    "    - [ Test Exercise 3 (`tsp_large_graph`)](#4-3)\n",
    "  - [ Exercise 4](#ex04)\n",
    "    - [Test Exercise 4 (`tsp_medium_graph`)](#4-4)\n"
   ]
  },
  {
   "cell_type": "markdown",
   "metadata": {},
   "source": [
    "<a id='1'></a>\n",
    "\n",
    "## 1 - Introduction  \n",
    "\n",
    "This assignment revolves around a pre-implemented `Graph` class. You will implement four additional classes, each focused on specific graph-related problems:  \n",
    "\n",
    "- **GraphShortestPath** – Implements the `shortest_path` method to find the shortest route between two nodes.  \n",
    "- **GraphTSPSmallGraph** – Implements the `tsp_small_graph` method to solve the Travelling Salesman Problem (TSP) efficiently for small graphs.  \n",
    "- **GraphTSPMediumGraph** – Implements the `tsp_medium_graph` method to solve TSP for medium-sized graphs.  \n",
    "- **GraphTSPLargeGraph** – Implements the `tsp_large_graph` method to tackle TSP for large graphs.  \n",
    "\n",
    "Each task comes with constraints and execution time limits, detailed in their respective sections. Work alongside an LLM to develop these algorithms, but avoid copying solutions outright. Instead, ask for explanations, break down the logic, and refine your approach. This will help with debugging and optimizing the code to meet the assignment's requirements.\n",
    "\n",
    "**Here's a few important points on how this notebook works:**\n",
    "\n",
    "- **Only the graded cells are Graded:** You can add new cells to experiment but these will be ignored by the grader. If you want something graded, include it in the provided cell that contains the respective Graph class.\n",
    "- **Some cells are frozen:** Some cells are frozen, e.g. the `Graph` class, to avoid mistakenly editing their code.\n",
    "- **Avoid importing new libraries:** Avoid importing new libraries beyond those you'll find in section 1.1, immediately below. **In particular `joblib` or any multiprocessing or parallel computing approach will crash the grader.\n",
    "- **Save before submitting:** Do this to ensure you are graded on your most recent work.\n",
    "\n",
    "**If you experience any issues with the assignment or have any difficulties, please reach out to our [Discourse Community](https://www.coursera.org/learn/introduction-to-generative-ai-for-software-development/item/hIZen). Mentors, fellow learners, and staff will be available to assist you with any challenges you may encounter!**\n",
    "\n",
    "Happy coding!"
   ]
  },
  {
   "cell_type": "markdown",
   "metadata": {},
   "source": [
    "<a id='1-1'></a>\n",
    "### 1.1 - Importing unittests\n",
    "\n",
    "This library includes unit tests to evaluate your solutions. After every exercise, there will be a cell with a unittest. Run it to get your solution tested.\n",
    "\n",
    "There is also a submission checker, which you should run at the end of the assignment, to ensure that your solution will be properly evaluated by the autograder."
   ]
  },
  {
   "cell_type": "code",
   "execution_count": 1,
   "metadata": {
    "deletable": false,
    "editable": false
   },
   "outputs": [],
   "source": [
    "import unittests\n",
    "import submission_checker"
   ]
  },
  {
   "cell_type": "markdown",
   "metadata": {},
   "source": [
    "<a id='1-2'></a>\n",
    "### 1.2 - The `Graph` Class\n",
    "\n",
    "The `Graph` class that defines the structure of a graph and the methods that can be performed on them. Take a moment to familiarize yourself with the class's structure and its methods, or better yet, share the code with an LLM and ask it for an explanation!\n",
    "\n",
    "The cell below is frozen and you cannot edit the class. Instead, you will work inside of the 4 graph classes, one for each exercise."
   ]
  },
  {
   "cell_type": "code",
   "execution_count": 2,
   "metadata": {
    "deletable": false,
    "editable": false,
    "tags": [
     "graded"
    ]
   },
   "outputs": [],
   "source": [
    "import random\n",
    "import heapq\n",
    "import itertools\n",
    "\n",
    "class Graph:\n",
    "    def __init__(self, directed=False):\n",
    "        \"\"\"\n",
    "        Initialize the Graph.\n",
    "\n",
    "        Parameters:\n",
    "        - directed (bool): Specifies whether the graph is directed. Default is False (undirected).\n",
    "\n",
    "        Attributes:\n",
    "        - graph (dict): A dictionary to store vertices and their adjacent vertices (with weights).\n",
    "        - directed (bool): Indicates whether the graph is directed.\n",
    "        \"\"\"\n",
    "        self.graph = {}\n",
    "        self.directed = directed\n",
    "    \n",
    "    def add_vertex(self, vertex):\n",
    "        \"\"\"\n",
    "        Add a vertex to the graph.\n",
    "\n",
    "        Parameters:\n",
    "        - vertex: The vertex to add. It must be hashable.\n",
    "\n",
    "        Ensures that each vertex is represented in the graph dictionary as a key with an empty dictionary as its value.\n",
    "        \"\"\"\n",
    "        if not isinstance(vertex, (int, str, tuple)):\n",
    "            raise ValueError(\"Vertex must be a hashable type.\")\n",
    "        if vertex not in self.graph:\n",
    "            self.graph[vertex] = {}\n",
    "    \n",
    "    def add_edge(self, src, dest, weight):\n",
    "        \"\"\"\n",
    "        Add a weighted edge from src to dest. If the graph is undirected, also add from dest to src.\n",
    "\n",
    "        Parameters:\n",
    "        - src: The source vertex.\n",
    "        - dest: The destination vertex.\n",
    "        - weight: The weight of the edge.\n",
    "        \n",
    "        Prevents adding duplicate edges and ensures both vertices exist.\n",
    "        \"\"\"\n",
    "        if src not in self.graph or dest not in self.graph:\n",
    "            raise KeyError(\"Both vertices must exist in the graph.\")\n",
    "        if dest not in self.graph[src]:  # Check to prevent duplicate edges\n",
    "            self.graph[src][dest] = weight\n",
    "        if not self.directed and src not in self.graph[dest]:\n",
    "            self.graph[dest][src] = weight\n",
    "    \n",
    "    def remove_edge(self, src, dest):\n",
    "        \"\"\"\n",
    "        Remove an edge from src to dest. If the graph is undirected, also remove from dest to src.\n",
    "\n",
    "        Parameters:\n",
    "        - src: The source vertex.\n",
    "        - dest: The destination vertex.\n",
    "        \"\"\"\n",
    "        if src in self.graph and dest in self.graph[src]:\n",
    "            del self.graph[src][dest]\n",
    "        if not self.directed:\n",
    "            if dest in self.graph and src in self.graph[dest]:\n",
    "                del self.graph[dest][src]\n",
    "    \n",
    "    def remove_vertex(self, vertex):\n",
    "        \"\"\"\n",
    "        Remove a vertex and all edges connected to it.\n",
    "\n",
    "        Parameters:\n",
    "        - vertex: The vertex to be removed.\n",
    "        \"\"\"\n",
    "        if vertex in self.graph:\n",
    "            # Remove any edges from other vertices to this one\n",
    "            for adj in list(self.graph):\n",
    "                if vertex in self.graph[adj]:\n",
    "                    del self.graph[adj][vertex]\n",
    "            # Remove the vertex entry itself\n",
    "            del self.graph[vertex]\n",
    "    \n",
    "    def get_adjacent_vertices(self, vertex):\n",
    "        \"\"\"\n",
    "        Get a list of vertices adjacent to the specified vertex.\n",
    "\n",
    "        Parameters:\n",
    "        - vertex: The vertex whose neighbors are to be retrieved.\n",
    "\n",
    "        Returns:\n",
    "        - List of adjacent vertices. Returns an empty list if vertex is not found.\n",
    "        \"\"\"\n",
    "        return list(self.graph.get(vertex, {}).keys())  \n",
    "    \n",
    "    def tour_length(self, tour):\n",
    "        \"\"\"\n",
    "        Calculate the length of a tour.  Handles cases where edges might be missing.\n",
    "\n",
    "        Parameters:\n",
    "        - tour: A list of vertices representing a tour. A tour ends and starts in the initial vertex. This is assumed, so you should not write the last vertice.\n",
    "\n",
    "        Returns:\n",
    "        - The total length of the tour. Returns infinity if any edge in the tour is missing.\n",
    "        \"\"\"\n",
    "        if tour and tour[0] == tour[-1] and len(tour) > 1:\n",
    "            raise ValueError(\"Tour should not include the return to the starting vertex.\")\n",
    "        total_length = 0\n",
    "        for i in range(len(tour)):\n",
    "            weight = self._get_edge_weight(tour[i], tour[(i + 1) % len(tour)])\n",
    "            if weight == float('inf'):  # Check for missing edge\n",
    "                return float('inf')  # Tour is invalid if any edge is missing\n",
    "            total_length += weight\n",
    "        return total_length\n",
    "\n",
    "    def _get_edge_weight(self, src, dest):\n",
    "        \"\"\"\n",
    "        Get the weight of the edge from src to dest.\n",
    "\n",
    "        Parameters:\n",
    "        - src: The source vertex.\n",
    "        - dest: The destination vertex.\n",
    "\n",
    "        Returns:\n",
    "        - The weight of the edge. If the edge does not exist, returns infinity.\n",
    "        \"\"\"\n",
    "        return self.graph[src].get(dest, float('inf'))\n",
    "    \n",
    "    def __str__(self):\n",
    "        \"\"\"\n",
    "        Provide a string representation of the graph's adjacency list for easy printing and debugging.\n",
    "\n",
    "        Returns:\n",
    "        - A string representation of the graph dictionary.\n",
    "        \"\"\"\n",
    "        return str(self.graph)"
   ]
  },
  {
   "cell_type": "markdown",
   "metadata": {},
   "source": [
    "<a id='2'></a>\n",
    "## 2 - Recommentations\n",
    "\n",
    "<a id='2-1'></a>\n",
    "### 2.1 - Recommended Development Steps\n",
    "\n",
    "The goal of this project is to develop your solutions alongside an LLM. Here's some steps to try:\n",
    "\n",
    "- **Understand the Problem**: Discuss graph theory problems like the Travelling Salesman Problem (TSP) and shortest path finding with the LLM. Use it to clarify concepts and get examples, enhancing your foundational knowledge.\n",
    "\n",
    "- **Analyze the `Graph` Class**: Analyze the provided Graph class functions and structure by consulting the LLM. Its explanations will help you understand how to effectively utilize and extend the class.\n",
    "\n",
    "- **Brainstorm Solutions**: For each exercise, there is a class and a method (`shortest_path`, `tsp_small_graph`, `tsp_large_graph`, `tsp_medium_graph`), brainstorm with the LLM potential solutions. Share the time constraints and whether the solutions need to be optimal and see which algorithms the LLM recommends.\n",
    "\n",
    "- **Implement Solutions**: Have the LLM generate methods that implement the solutions you brainstorm. Ensure the LLM understands the structure of the `Graph` class and the function you want to implement so that the generated code will run as expected.\n",
    "\n",
    "5. **Debug Errors**: Use the LLM to strategize and review your testing approach, especially for tests that yield unexpected results. It can offer debugging and optimization advice to improve your solutions.\n",
    "\n",
    "Of course the LLM Best Practices of \"Be specific\", \"Assign a role\", \"Request an expert opinion\", \"Give feedback\" should serve you well throughout!"
   ]
  },
  {
   "cell_type": "markdown",
   "metadata": {},
   "source": [
    "<a id='3'></a>\n",
    "## 3 - Playground\n",
    "\n",
    "Use the space below to experiment with and test your methods. The `generate_graph` function can be used to generate graphs with different properties.\n",
    "\n",
    "To measure the execution time of your code, you can use the `%%timeit` magic method, an example of which appears at the bottom of this section. **Remember, `%%timeit` should be placed at the beginning of a code cell**, even before any comments marked by `#`.\n",
    "\n",
    "You're encouraged to create as many new cells as needed for testing, but keep in mind that only the code within the graded cells will be considered during grading."
   ]
  },
  {
   "cell_type": "markdown",
   "metadata": {},
   "source": [
    "<a id='3-1'></a>\n",
    "### 3.1 - The `generate_graph` function\n",
    "\n",
    "The function below will generate graphs and you may find it useful in experimenting with solutions or testing your code. This function is also the one used to generate the graphs used in the unit tests. If your algorithm fails a test case, you will be given the call to this function with the appropriate arguments needed to replicate the graph that caused your algorithm to fail. Additionally, the reason for the failure will be provided, whether it was due to exceeding the time limit or not achieving an optimal or near-optimal distance."
   ]
  },
  {
   "cell_type": "code",
   "execution_count": 3,
   "metadata": {
    "deletable": false,
    "editable": false
   },
   "outputs": [],
   "source": [
    "def generate_graph(graph, nodes, edges=None, complete=False, weight_bounds=(1,600), seed=None):\n",
    "    \"\"\"\n",
    "    Generates a graph with specified parameters, allowing for both complete and incomplete graphs.\n",
    "    \n",
    "    This function creates a graph with a specified number of nodes and edges, with options for creating a complete graph, and for specifying the weight bounds of the edges. It uses the Graphs class to create and manipulate the graph.\n",
    "\n",
    "    Parameters:\n",
    "    - graph (one of the graph calsses for each exercise): The graph class to generate the test graph.\n",
    "    - nodes (int): The number of nodes in the graph. Must be a positive integer.\n",
    "    - edges (int, optional): The number of edges to add for each node in the graph. This parameter is ignored if `complete` is set to True. Defaults to None.\n",
    "    - complete (bool, optional): If set to True, generates a complete graph where every pair of distinct vertices is connected by a unique edge. Defaults to False.\n",
    "    - weight_bounds (tuple, optional): A tuple specifying the lower and upper bounds (inclusive) for the random weights of the edges. Defaults to (1, 600).\n",
    "    - seed (int, optional): A seed for the random number generator to ensure reproducibility. Defaults to None.\n",
    "\n",
    "    Raises:\n",
    "    - ValueError: If `edges` is not None and `complete` is set to True, since a complete graph does not require specifying the number of edges.\n",
    "\n",
    "    Returns:\n",
    "    - The graph class: An instance of the Graph class you passed in the graph parameter, representing the generated graph, with vertices labeled as integers starting from 0.\n",
    "\n",
    "    Examples:\n",
    "    - Generating a complete graph with 5 nodes:\n",
    "        generate_graph(5, complete=True)\n",
    "    \n",
    "    - Generating an incomplete graph with 5 nodes and 2 edges per node:\n",
    "        generate_graph(5, edges=2)\n",
    "    \n",
    "    Note:\n",
    "    - The function assumes the existence of a Graph class with methods for adding vertices (`add_vertex`) and edges (`add_edge`), as well as a method for getting adjacent vertices (`get_adjacent_vertices`).\n",
    "    \"\"\"\n",
    "    random.seed(seed)\n",
    "    graph = graph()\n",
    "    if edges is not None and complete:\n",
    "        raise ValueError(\"edges must be None if complete is set to True\")\n",
    "    if not complete and edges > nodes:\n",
    "        raise ValueError(\"number of edges must be less than number of nodes\")\n",
    "    \n",
    "\n",
    "    for i in range(nodes):\n",
    "        graph.add_vertex(i)\n",
    "    if complete:\n",
    "        for i in range(nodes):\n",
    "            for j in range(i+1,nodes):\n",
    "                weight = random.randint(weight_bounds[0], weight_bounds[1])\n",
    "                graph.add_edge(i,j,weight)\n",
    "    else:\n",
    "        for i in range(nodes):\n",
    "            for _ in range(edges):\n",
    "                j = random.randint(0, nodes - 1)\n",
    "                while (j == i or j in graph.get_adjacent_vertices(i)) and len(graph.get_adjacent_vertices(i)) < nodes - 1:  # Ensure the edge is not a loop or a duplicate\n",
    "                    j = random.randint(0, nodes - 1)\n",
    "                weight = random.randint(weight_bounds[0], weight_bounds[1])\n",
    "                if len(graph.graph[i]) < edges and len(graph.graph[j]) < edges:\n",
    "                    graph.add_edge(i, j, weight)\n",
    "    return graph"
   ]
  },
  {
   "cell_type": "markdown",
   "metadata": {},
   "source": [
    "<a id='3-2'></a>\n",
    "### 3.2 Example usage (using the base Graph class)\n",
    "\n",
    "Let's experiment this function using the Graph class"
   ]
  },
  {
   "cell_type": "code",
   "execution_count": 4,
   "metadata": {
    "deletable": false,
    "editable": false
   },
   "outputs": [],
   "source": [
    "graph = generate_graph(graph = Graph, nodes = 10, complete = True)"
   ]
  },
  {
   "cell_type": "code",
   "execution_count": 5,
   "metadata": {
    "deletable": false,
    "editable": false
   },
   "outputs": [
    {
     "name": "stdout",
     "output_type": "stream",
     "text": [
      "1330\n"
     ]
    }
   ],
   "source": [
    "# Using its methods:\n",
    "\n",
    "print(graph.tour_length([1, 4, 6, 8, 5]))"
   ]
  },
  {
   "cell_type": "code",
   "execution_count": 6,
   "metadata": {
    "deletable": false,
    "editable": false
   },
   "outputs": [
    {
     "name": "stdout",
     "output_type": "stream",
     "text": [
      "430\n"
     ]
    }
   ],
   "source": [
    "print(graph._get_edge_weight(5, 8))"
   ]
  },
  {
   "cell_type": "code",
   "execution_count": 7,
   "metadata": {
    "deletable": false,
    "editable": false
   },
   "outputs": [],
   "source": [
    "## Example function and use of the %%timeit magic method\n",
    "def foo(n):\n",
    "    i = 0\n",
    "    for i in range(10000):\n",
    "        for j in range(n):\n",
    "            i += j\n",
    "    return i"
   ]
  },
  {
   "cell_type": "code",
   "execution_count": 8,
   "metadata": {
    "deletable": false,
    "editable": false
   },
   "outputs": [
    {
     "name": "stdout",
     "output_type": "stream",
     "text": [
      "10044\n"
     ]
    }
   ],
   "source": [
    "print(foo(10))"
   ]
  },
  {
   "cell_type": "code",
   "execution_count": 9,
   "metadata": {
    "deletable": false,
    "editable": false
   },
   "outputs": [
    {
     "name": "stdout",
     "output_type": "stream",
     "text": [
      "4.49 ms ± 101 µs per loop (mean ± std. dev. of 7 runs, 100 loops each)\n"
     ]
    }
   ],
   "source": [
    "%%timeit\n",
    "foo(10)"
   ]
  },
  {
   "cell_type": "markdown",
   "metadata": {},
   "source": [
    "Feel free to add as many cells as you want! You can do so by clicking in the `+` button in the left upper corner of this notebook."
   ]
  },
  {
   "cell_type": "markdown",
   "metadata": {},
   "source": [
    "<a id='4'></a>\n",
    "## 4 - Exercises\n",
    "\n",
    "Let's dive into the exercises! There are a total of four exercises, and you must pass at least three of them. To successfully complete the exercises, it is **essential** that you do not blindly copy an LLM solution. Instead, ask it to explain the concepts to you and then work together to complete the exercise. The explanation for each exercise is provided above. Feel free to use the `generate_graph` function to debug your solution if it fails to pass any tests."
   ]
  },
  {
   "cell_type": "markdown",
   "metadata": {},
   "source": [
    "<a id='ex01'></a>\n",
    "### Exercise 1: `shortest_path` (Sparse Graphs, 10,000 nodes, Optimal Solution, 0.5 seconds)\n",
    "\n",
    "In this challenge you will be given a large graph with tens of thousands of nodes. The graph is \"sparse\", however, meaning that each vertex may only have edges leading to a few other vertices. You will need to develop an algorithm to find the shortest path between two vertices in this graph. The solution will be the length of the path, and the list of vertices along that path. This is a classic computer science problem, and there are a few standard algorithms your LLM is likely to suggest. To ensure your code is efficient, it must execute in less than `0.5` seconds. \n",
    "\n",
    "Read **carefully** the function's docstring (the text describing the function), as the parameters and the return must **NOT** be changed.\n",
    "\n",
    "**Important Note:** Do **NOT** include any new libraries beyond those imported at the beginning of the notebook. You may need to explicitly state this and ask the LLM **NOT** to use any additional libraries if necessary. Using additional libraries may cause you to fail the autograder, even if you pass the local tests.\n",
    "\n",
    "**What you CAN do:** Create new functions **within the `GraphShortestPath` class**. Do **NOT** create functions outside the `GraphShortestPath` class or outside this graded cell. You may do so during development, but in the end, paste your solution into the graded cell following these instructions."
   ]
  },
  {
   "cell_type": "code",
   "execution_count": 10,
   "metadata": {
    "deletable": false,
    "tags": [
     "graded"
    ]
   },
   "outputs": [],
   "source": [
    "# GRADED CELL 1 - Do NOT delete it, do NOT place your solution anywhere else. You can create new cells and work from there, but in the end add your solution in this cell.\n",
    "\n",
    "class GraphShortestPath(Graph):\n",
    "\n",
    "    def shortest_path(self, start, end): \n",
    "        \"\"\"\n",
    "        Calculate the shortest path from a starting node to an ending node in a sparse graph\n",
    "        with potentially 10000s of nodes. Must run under 0.5 second and find the shortest distance between two nodes.\n",
    "\n",
    "        Parameters:\n",
    "        start: The starting node.\n",
    "        end: The ending node.\n",
    "\n",
    "        Returns:\n",
    "        A tuple containing the total distance of the shortest path and a list of nodes representing that path.\n",
    "        \"\"\"\n",
    "        dist = None\n",
    "        path = None\n",
    "        # Your code here\n",
    "        # Priority queue to store (distance, vertex) tuples\n",
    "        priority_queue = []\n",
    "        # Dictionary to store the shortest distance from start to each vertex\n",
    "        distances = {vertex: float('inf') for vertex in self.graph}\n",
    "        # Dictionary to store the shortest path tree\n",
    "        previous_nodes = {vertex: None for vertex in self.graph}\n",
    "\n",
    "        # Initialize the start vertex\n",
    "        distances[start] = 0\n",
    "        heapq.heappush(priority_queue, (0, start))\n",
    "\n",
    "        while priority_queue:\n",
    "            # Get the vertex with the smallest distance\n",
    "            current_distance, current_vertex = heapq.heappop(priority_queue)\n",
    "\n",
    "            # If we reached the end vertex, we can reconstruct the path\n",
    "            if current_vertex == end:\n",
    "                path = []\n",
    "                while current_vertex is not None:\n",
    "                    path.append(current_vertex)\n",
    "                    current_vertex = previous_nodes[current_vertex]\n",
    "                path.reverse()\n",
    "                dist = distances[end]\n",
    "                return dist, path\n",
    "\n",
    "            # If we find a larger distance in the queue, we can skip processing\n",
    "            if current_distance > distances[current_vertex]:\n",
    "                continue\n",
    "\n",
    "            # Explore neighbors\n",
    "            for neighbor, weight in self.graph[current_vertex].items():\n",
    "                distance = current_distance + weight\n",
    "\n",
    "                # If a shorter path to neighbor is found\n",
    "                if distance < distances[neighbor]:\n",
    "                    distances[neighbor] = distance\n",
    "                    previous_nodes[neighbor] = current_vertex\n",
    "                    heapq.heappush(priority_queue, (distance, neighbor))\n",
    "\n",
    "        # If the end vertex is not reachable, set dist to infinity and path to an empty list\n",
    "        dist = float('inf')\n",
    "        path = []\n",
    "        return dist, path"
   ]
  },
  {
   "cell_type": "markdown",
   "metadata": {},
   "source": [
    "<a id='4-1'></a>\n",
    "### 4.1 - Test Exercise 1 (`shortest_path`)\n",
    "\n",
    "Run the code below to test the `shortest_path` method on sparsely connected graphs with 10,000 nodes. The requirements for passing this exercise are:\n",
    "\n",
    "- The algorithm must complete its run in under `0.5` second for each graph.\n",
    "- It must accurately find the shortest path."
   ]
  },
  {
   "cell_type": "code",
   "execution_count": 11,
   "metadata": {
    "deletable": false,
    "editable": false
   },
   "outputs": [
    {
     "name": "stdout",
     "output_type": "stream",
     "text": [
      "\u001b[92m All tests passed!\n",
      "  If you made your solution in a different cell, make sure to include it in the graded cell as well.\n"
     ]
    }
   ],
   "source": [
    "unittests.test_shortest_path(GraphShortestPath)"
   ]
  },
  {
   "cell_type": "markdown",
   "metadata": {},
   "source": [
    "<a id='ex02'></a>\n",
    "### Exercise 2: `tsp_small_graph` (Complete Graphs, 10 nodes, Optimal Solution, 1 second)\n",
    "\n",
    "The Traveling Salesman Problem asks you to find the shortest path through a graph that visits all vertices and returns to the start, also called a \"tour\". This problem famously is computationally intensive for large graphs, making it essentially impossible to find the absolute best solution. For smaller graphs, however, a brute force approach is possible, and that's the first version of the Traveling Salesman Problem you'll tackle.\n",
    "\n",
    "Write a method that, given a small graph of about 10 nodes, finds the shortest tour of the graph that starts and ends at node 0. Unlike in the first exercise, the graphs here are \"complete\", meaning there is an edge from each node to each other node. The method should return the length of the tour and a list of the nodes visited. **The tour found must be the absolute shortest through the graph.** Your solution must also be efficient, completing the task in under `1` second.\n",
    "\n",
    "Read **carefully** the function's docstring (the text describing the function), as the parameters and the return must **NOT** be changed.\n",
    "\n",
    "**Important Note:** Do **NOT** include any new libraries beyond those imported at the beginning of the notebook. You may need to explicitly state this and ask the LLM **NOT** to use any additional libraries if necessary. Using additional libraries may cause you to fail the autograder, even if you pass the local tests.\n",
    "\n",
    "**What you CAN do:** Create new functions **within the `GraphTSPPath` class**. Do **NOT** create functions outside the `GraphTSPPath` class or outside this graded cell. You may do so during development, but in the end, paste your solution into the graded cell following these instructions."
   ]
  },
  {
   "cell_type": "code",
   "execution_count": 12,
   "metadata": {
    "deletable": false,
    "tags": [
     "graded"
    ]
   },
   "outputs": [],
   "source": [
    "# GRADED CELL 2 - Do NOT delete it, do NOT place your solution anywhere else. You can create new cells and work from there, but in the end add your solution in this cell.\n",
    "\n",
    "class GraphTSPSmallGraph(Graph):\n",
    "    def tsp_small_graph(self, start_vertex): \n",
    "        \"\"\"\n",
    "        Solve the Travelling Salesman Problem for a small (~10 node) complete graph starting from a specified node.\n",
    "        Required to find the optimal tour. Expect graphs with at most 10 nodes. Must run under 1 second.\n",
    "        \n",
    "        Parameters:\n",
    "        start: The starting node.\n",
    "        \n",
    "        Returns:\n",
    "        A tuple containing the total distance of the tour and a list of nodes representing the tour path.\n",
    "        \"\"\"\n",
    "        dist = None\n",
    "        path = None\n",
    "        # Your code here\n",
    "        n = len(self.graph)\n",
    "        all_vertices = list(self.graph.keys())\n",
    "        start_index = all_vertices.index(start_vertex)\n",
    "\n",
    "        # Map vertices to indices for easier manipulation\n",
    "        vertex_to_index = {vertex: i for i, vertex in enumerate(all_vertices)}\n",
    "\n",
    "        # Distance table for dynamic programming\n",
    "        dp = [[float('inf')] * (1 << n) for _ in range(n)]\n",
    "        dp[start_index][1 << start_index] = 0\n",
    "\n",
    "        # Parent table to reconstruct the path\n",
    "        parent = [[-1] * (1 << n) for _ in range(n)]\n",
    "\n",
    "        # Iterate over all subsets of vertices\n",
    "        for subset in range(1 << n):\n",
    "            for current in range(n):\n",
    "                if not (subset & (1 << current)):\n",
    "                    continue\n",
    "                for neighbor in range(n):\n",
    "                    if neighbor == current or not (subset & (1 << neighbor)):\n",
    "                        continue\n",
    "                    new_distance = dp[neighbor][subset ^ (1 << current)] + self._get_edge_weight(all_vertices[neighbor], all_vertices[current])\n",
    "                    if new_distance < dp[current][subset]:\n",
    "                        dp[current][subset] = new_distance\n",
    "                        parent[current][subset] = neighbor\n",
    "\n",
    "        # Reconstruct the shortest path\n",
    "        end_state = (1 << n) - 1\n",
    "        min_tour_cost = float('inf')\n",
    "        last_index = -1\n",
    "        for i in range(n):\n",
    "            if i == start_index:\n",
    "                continue\n",
    "            tour_cost = dp[i][end_state] + self._get_edge_weight(all_vertices[i], start_vertex)\n",
    "            if tour_cost < min_tour_cost:\n",
    "                min_tour_cost = tour_cost\n",
    "                last_index = i\n",
    "\n",
    "        # Backtrack to find the path\n",
    "        path = []\n",
    "        subset = end_state\n",
    "        current_index = last_index\n",
    "        while current_index != -1:\n",
    "            path.append(all_vertices[current_index])\n",
    "            next_index = parent[current_index][subset]\n",
    "            subset ^= (1 << current_index)\n",
    "            current_index = next_index\n",
    "\n",
    "        path.append(start_vertex)\n",
    "        path.reverse()\n",
    "\n",
    "        dist = min_tour_cost\n",
    "\n",
    "        return dist, path"
   ]
  },
  {
   "cell_type": "markdown",
   "metadata": {},
   "source": [
    "<a id='4-2'></a>\n",
    "### 4.2 Test Exercise 2 (`tsp_small_graph`)\n",
    "\n",
    "Run the code below to test the `tsp_small_graph` on complete (fully connected) graphs with 10 nodes. The requirements for passing this exercise are:\n",
    "\n",
    "- The algorithm must complete its run in under `1` second for each graph.\n",
    "- It must fund the optimal solution, starting at node 0."
   ]
  },
  {
   "cell_type": "code",
   "execution_count": 13,
   "metadata": {
    "deletable": false,
    "editable": false
   },
   "outputs": [
    {
     "name": "stdout",
     "output_type": "stream",
     "text": [
      "\u001b[92m All tests passed!\n",
      "  If you made your solution in a different cell, make sure to include it in the graded cell as well.\n"
     ]
    }
   ],
   "source": [
    "unittests.test_tsp_small_graph(GraphTSPSmallGraph)"
   ]
  },
  {
   "cell_type": "markdown",
   "metadata": {},
   "source": [
    "<a id='ex03'></a>\n",
    "### Exercise 3: `tsp_large_graph` (Complete Graphs, 1,000 nodes, \"Pretty Good\" Solution, 0.5 seconds)\n",
    "\n",
    "In this exercise you again tackle the Traveling Salesman Problem, but for much larger graphs of about 1,000 nodes. Once again the graph is complete, with an edge between every pair of nodes. In graphs this size, a brute force approach is now computationally infeasible, so the tour length requirement on this method has been loosened substantially. You now must simply find a \"pretty good\" tour through the graph using some kind of heuristic approach. There are several commonly-used heuristics, and almost all of them (with the exception perhaps of randomly generating a tour) will produce tours that are short enough to pass the tests on this method. While your solution no longer needs to be optimal, your code should run quickly, in less than `0.5` seconds. Have your LLM focus on speed rather than tour length, and you should find an algorithm that works!\n",
    "\n",
    "Read **carefully** the function's docstring (the text describing the function), as the parameters and the return must **NOT** be changed.\n",
    "\n",
    "**Important Note:** Do **NOT** include any new libraries beyond those imported at the beginning of the notebook. You may need to explicitly state this and ask the LLM **NOT** to use any additional libraries if necessary. Using additional libraries may cause you to fail the autograder, even if you pass the local tests.\n",
    "\n",
    "**What you CAN do:** Create new functions **within the `GraphTSPLargeGraph` class**. Do **NOT** create functions outside the `GraphTSPLargeGraph` class or outside this graded cell. You may do so during development, but in the end, paste your solution into the graded cell following these instructions."
   ]
  },
  {
   "cell_type": "code",
   "execution_count": 14,
   "metadata": {
    "deletable": false,
    "tags": [
     "graded"
    ]
   },
   "outputs": [],
   "source": [
    "# GRADED CELL 3 - Do NOT delete it, do NOT place your solution anywhere else. You can create new cells and work from there, but in the end add your solution in this cell.\n",
    "\n",
    "class GraphTSPLargeGraph(Graph):\n",
    "    def tsp_large_graph(self, start): \n",
    "        \"\"\"\n",
    "        Solve the Travelling Salesman Problem for a large (~1000 node) complete graph starting from a specified node.\n",
    "        No requirement to find the optimal tour. Must run under 0.5 seconds and its solution must no\n",
    "        \n",
    "        Parameters:\n",
    "        start: The starting node.\n",
    "        \n",
    "        Returns:\n",
    "        A tuple containing the total distance of the tour and a list of nodes representing the tour path.\n",
    "        \"\"\"\n",
    "        dist = None\n",
    "        path = None\n",
    "        # Your code here\n",
    "        # Initialize variables for the result\n",
    "        dist = 0\n",
    "        path = [start]\n",
    "        \n",
    "        # Set of visited nodes\n",
    "        visited = set(path)\n",
    "        \n",
    "        current_node = start\n",
    "        \n",
    "        # Iterate until all nodes are visited\n",
    "        while len(visited) < len(self.graph):\n",
    "            # Find the nearest unvisited neighbor\n",
    "            next_node = None\n",
    "            min_distance = float('inf')\n",
    "            \n",
    "            for neighbor, distance in self.graph[current_node].items():\n",
    "                if neighbor not in visited and distance < min_distance:\n",
    "                    min_distance = distance\n",
    "                    next_node = neighbor\n",
    "            \n",
    "            # Move to the next node\n",
    "            if next_node is not None:\n",
    "                path.append(next_node)\n",
    "                visited.add(next_node)\n",
    "                dist += min_distance\n",
    "                current_node = next_node\n",
    "        \n",
    "        # Return to the starting node to complete the tour\n",
    "        dist += self._get_edge_weight(current_node, start)\n",
    "        path.append(start)\n",
    "        \n",
    "        return dist, path"
   ]
  },
  {
   "cell_type": "markdown",
   "metadata": {},
   "source": [
    "<a id='4-3'></a>\n",
    "### 4.3 Test Exercise 3 (`tsp_large_graph`)\n",
    "\n",
    "Run the code below to test the `tsp_large_graph` on complete (fully connected) graphs with 1000 nodes. The requirements for passing this exercise are:\n",
    "\n",
    "- The algorithm must complete its run in under `0.5` second for each graph.\n",
    "- It must find the good solution (less than a specified value, depending on the graph). "
   ]
  },
  {
   "cell_type": "code",
   "execution_count": 15,
   "metadata": {
    "deletable": false,
    "editable": false
   },
   "outputs": [
    {
     "name": "stdout",
     "output_type": "stream",
     "text": [
      "\u001b[92m All tests passed!\n",
      "  If you made your solution in a different cell, make sure to include it in the graded cell as well.\n"
     ]
    }
   ],
   "source": [
    "unittests.test_tsp_large_graph(GraphTSPLargeGraph)"
   ]
  },
  {
   "cell_type": "markdown",
   "metadata": {},
   "source": [
    "<a id='ex04'></a>\n",
    "### Exercise 4: `tsp_medium_graph` (Complete Graphs, 300 nodes, Near-Optimal Solution, 1.5 seconds)\n",
    "\n",
    "In this last version of the Traveling Salesman Problem, you will need to work with an LLM to develop a solution that improves upon the algorithm you used in Exercise 3. Now you will be given complete graphs of about 300 nodes. The time requirement has been relaxed to `1.5` seconds, giving your algorithm 3 times as long to run. The tour length requirements, however, have been tightened, meaning you'll need to find tours that are much closer to the theoretical optimum. This likely means that the heuristic you used in Exercise 3 will no longer produce short enough tours. Brainstorm with your LLM new heuristics you could implement that take advantage of the longer runtime you're allowed and generate relatively shorter tours.\n",
    "\n",
    "Read **carefully** the function's docstring (the text describing the function), as the parameters and the return must **NOT** be changed.\n",
    "\n",
    "**Important Note:** Do **NOT** include any new libraries beyond those imported at the beginning of the notebook. You may need to explicitly state this and ask the LLM **NOT** to use any additional libraries if necessary. Using additional libraries may cause you to fail the autograder, even if you pass the local tests.\n",
    "\n",
    "**What you CAN do:** Create new functions **within the `GraphTSPMediumGraph` class**. Do **NOT** create functions outside the `GraphTSPMediumGraph` class or outside this graded cell. You may do so during development, but in the end, paste your solution into the graded cell following these instructions."
   ]
  },
  {
   "cell_type": "code",
   "execution_count": 16,
   "metadata": {
    "deletable": false,
    "tags": [
     "graded"
    ]
   },
   "outputs": [],
   "source": [
    "# GRADED CELL 4 - Do NOT delete it, do NOT place your solution anywhere else. You can create new cells and work from there, but in the end add your solution in this cell.\n",
    "\n",
    "class GraphTSPMediumGraph(Graph):\n",
    "    def tsp_medium_graph(self, start):\n",
    "        \"\"\"\n",
    "        Solve the Travelling Salesman Problem for a medium (~300 node) complete graph starting from a specified node.\n",
    "        Expected to perform better than tsp_large_graph. Must run under 1.5 seconds.\n",
    "        \n",
    "        Parameters:\n",
    "        start: The starting node.\n",
    "        \n",
    "        Returns:\n",
    "        A tuple containing the total distance of the tour and a list of nodes representing the tour path.\n",
    "        \"\"\"\n",
    "        # Your code here\n",
    "        dist = None\n",
    "        path = None\n",
    "        # Step 1: Generate an initial tour using the Nearest Neighbor heuristic\n",
    "        path = [start]\n",
    "        visited = set(path)\n",
    "        current_node = start\n",
    "        dist = 0\n",
    "        \n",
    "        while len(visited) < len(self.graph):\n",
    "            next_node = None\n",
    "            min_distance = float('inf')\n",
    "            \n",
    "            for neighbor, distance in self.graph[current_node].items():\n",
    "                if neighbor not in visited and distance < min_distance:\n",
    "                    min_distance = distance\n",
    "                    next_node = neighbor\n",
    "            \n",
    "            if next_node is not None:\n",
    "                path.append(next_node)\n",
    "                visited.add(next_node)\n",
    "                dist += min_distance\n",
    "                current_node = next_node\n",
    "        \n",
    "        # Complete the tour by returning to the start node\n",
    "        dist += self._get_edge_weight(current_node, start)\n",
    "        path.append(start)\n",
    "\n",
    "        improved = True\n",
    "        while improved:\n",
    "            improved = False\n",
    "            for i in range(1, len(path) - 2):\n",
    "                for j in range(i + 1, len(path) - 1):\n",
    "                    if j - i == 1:  # Skip adjacent nodes\n",
    "                        continue\n",
    "                    # Calculate the cost change if we swap edges (path[i-1], path[i]) and (path[j], path[j+1])\n",
    "                    delta = (\n",
    "                        self._get_edge_weight(path[i - 1], path[j]) +\n",
    "                        self._get_edge_weight(path[i], path[j + 1]) -\n",
    "                        self._get_edge_weight(path[i - 1], path[i]) -\n",
    "                        self._get_edge_weight(path[j], path[j + 1])\n",
    "                    )\n",
    "                    if delta < 0:\n",
    "                        # Perform the swap\n",
    "                        path[i:j+1] = reversed(path[i:j+1])\n",
    "                        dist += delta\n",
    "                        improved = True\n",
    "                        \n",
    "        return dist, path"
   ]
  },
  {
   "cell_type": "markdown",
   "metadata": {},
   "source": [
    "<a id='4-4'></a>\n",
    "### 4.4 Test Exercise 4 (`tsp_medium_graph`)\n",
    "\n",
    "Run the code below to test the `tsp_medium_graph` on complete (fully connected) graphs with 300 nodes. The requirements for passing this exercise are:\n",
    "\n",
    "- The algorithm must complete its run in under `1.5` seconds for each graph.\n",
    "- It must find the good solution (less than a specified value, depending on the graph). "
   ]
  },
  {
   "cell_type": "code",
   "execution_count": 17,
   "metadata": {
    "deletable": false,
    "editable": false
   },
   "outputs": [
    {
     "name": "stdout",
     "output_type": "stream",
     "text": [
      "\u001b[92m All tests passed!\n",
      "  If you made your solution in a different cell, make sure to include it in the graded cell as well.\n"
     ]
    }
   ],
   "source": [
    "unittests.test_tsp_medium_graph(GraphTSPMediumGraph)"
   ]
  },
  {
   "cell_type": "markdown",
   "metadata": {},
   "source": [
    "## Preparing Your Submission for Grading\n",
    "\n",
    "Your submission will be evaluated by an automated grading system, known as an autograder. This system automatically reviews your notebook and assigns a grade based on specific criteria. It's important to note that the autograder will only evaluate the cells marked for grading and will not consider the content of the entire notebook. Therefore, if you include any additional content (such as print statements) outside the functions in the graded cells, it might disrupt the autograder's process. This discrepancy could be why you might pass all the unit tests but still encounter issues with the autograder.\n",
    "\n",
    "To avoid such problems, please execute the following cell before submitting. This step will check for consistency within the graded cells but will not evaluate the correctness of your solutions—that aspect is determined by the unit tests. If the consistency check uncovers any issues, you'll have the opportunity to review and adjust your code accordingly.\n",
    "\n",
    "**Remember, this check is focused on ensuring the graded cells are properly formatted and does not assess the accuracy of your answers.**"
   ]
  },
  {
   "cell_type": "code",
   "execution_count": null,
   "metadata": {
    "deletable": false,
    "editable": false
   },
   "outputs": [],
   "source": [
    "submission_checker.check_notebook()"
   ]
  },
  {
   "cell_type": "markdown",
   "metadata": {},
   "source": [
    "Once you feel good about your submission, **save your work and submit!** \n",
    "\n",
    "**Congratulations on completing the first major assignment in this specialization!**"
   ]
  }
 ],
 "metadata": {
  "grader_version": "2",
  "kernelspec": {
   "display_name": "Python 3 (ipykernel)",
   "language": "python",
   "name": "python3"
  },
  "language_info": {
   "codemirror_mode": {
    "name": "ipython",
    "version": 3
   },
   "file_extension": ".py",
   "mimetype": "text/x-python",
   "name": "python",
   "nbconvert_exporter": "python",
   "pygments_lexer": "ipython3",
   "version": "3.11.6"
  }
 },
 "nbformat": 4,
 "nbformat_minor": 4
}
